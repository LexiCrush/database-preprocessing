{
 "cells": [
  {
   "cell_type": "code",
   "execution_count": 1,
   "metadata": {},
   "outputs": [],
   "source": [
    "# import sqlite connection\n",
    "import sqlite3\n",
    "import pandas as pd\n",
    "import numpy as np\n"
   ]
  },
  {
   "cell_type": "code",
   "execution_count": 9,
   "metadata": {},
   "outputs": [
    {
     "ename": "OperationalError",
     "evalue": "table players already exists",
     "output_type": "error",
     "traceback": [
      "\u001b[0;31m---------------------------------------------------------------------------\u001b[0m",
      "\u001b[0;31mOperationalError\u001b[0m                          Traceback (most recent call last)",
      "Cell \u001b[0;32mIn[9], line 10\u001b[0m\n\u001b[1;32m      7\u001b[0m     conn\u001b[39m.\u001b[39mcommit()\n\u001b[1;32m      8\u001b[0m     conn\u001b[39m.\u001b[39mclose()\n\u001b[0;32m---> 10\u001b[0m create_db()\n\u001b[1;32m     12\u001b[0m \u001b[39m# add a new user to the database with mock stats\u001b[39;00m\n\u001b[1;32m     13\u001b[0m \u001b[39mdef\u001b[39;00m \u001b[39madd_user\u001b[39m(username, password):\n",
      "Cell \u001b[0;32mIn[9], line 5\u001b[0m, in \u001b[0;36mcreate_db\u001b[0;34m()\u001b[0m\n\u001b[1;32m      3\u001b[0m conn \u001b[39m=\u001b[39m sqlite3\u001b[39m.\u001b[39mconnect(\u001b[39m'\u001b[39m\u001b[39mUserStorage.db\u001b[39m\u001b[39m'\u001b[39m)\n\u001b[1;32m      4\u001b[0m c \u001b[39m=\u001b[39m conn\u001b[39m.\u001b[39mcursor()\n\u001b[0;32m----> 5\u001b[0m c\u001b[39m.\u001b[39;49mexecute(\u001b[39m'''\u001b[39;49m\u001b[39mCREATE TABLE players\u001b[39;49m\n\u001b[1;32m      6\u001b[0m \u001b[39m            (username text primary key, password text, current_score integer, high_score integer, available_hints integer, coins integer, games_played integer, games_won integer)\u001b[39;49m\u001b[39m'''\u001b[39;49m)\n\u001b[1;32m      7\u001b[0m conn\u001b[39m.\u001b[39mcommit()\n\u001b[1;32m      8\u001b[0m conn\u001b[39m.\u001b[39mclose()\n",
      "\u001b[0;31mOperationalError\u001b[0m: table players already exists"
     ]
    }
   ],
   "source": [
    "# make a new sqlite database with 'username' as the primary key, and cols 'password', 'current_score', 'high_score', 'available_hints', 'coins', 'games_played', 'games_won'.\n",
    "def create_db():\n",
    "    conn = sqlite3.connect('UserStorage.db')\n",
    "    c = conn.cursor()\n",
    "    c.execute('''CREATE TABLE players\n",
    "                (username text primary key, password text, current_score integer, high_score integer, available_hints integer, coins integer, games_played integer, games_won integer)''')\n",
    "    conn.commit()\n",
    "    conn.close()\n",
    "\n",
    "create_db()\n",
    "\n",
    "# add a new user to the database with mock stats\n",
    "def add_user(username, password):\n",
    "    conn = sqlite3.connect('UserStorage.db')\n",
    "    c = conn.cursor()\n",
    "    c.execute(\"INSERT INTO players VALUES ('{}', '{}', 0, 0, 0, 0, 0, 0)\".format(username, password))\n",
    "    conn.commit()\n",
    "    conn.close()\n",
    "\n",
    "add_user('lexicrush', 'password')\n"
   ]
  },
  {
   "cell_type": "code",
   "execution_count": 8,
   "metadata": {},
   "outputs": [
    {
     "data": {
      "text/plain": [
       "[]"
      ]
     },
     "execution_count": 8,
     "metadata": {},
     "output_type": "execute_result"
    }
   ],
   "source": [
    "# display the database\n",
    "def display():\n",
    "    conn = sqlite3.connect('UserStorage.db')\n",
    "    c = conn.cursor()\n",
    "    c.execute(\"SELECT * FROM players\")\n",
    "    rows = c.fetchall()\n",
    "    conn.close()\n",
    "    return rows\n",
    "\n",
    "display()"
   ]
  }
 ],
 "metadata": {
  "kernelspec": {
   "display_name": ".virtualenvs",
   "language": "python",
   "name": "python3"
  },
  "language_info": {
   "codemirror_mode": {
    "name": "ipython",
    "version": 3
   },
   "file_extension": ".py",
   "mimetype": "text/x-python",
   "name": "python",
   "nbconvert_exporter": "python",
   "pygments_lexer": "ipython3",
   "version": "3.10.11"
  },
  "orig_nbformat": 4
 },
 "nbformat": 4,
 "nbformat_minor": 2
}
